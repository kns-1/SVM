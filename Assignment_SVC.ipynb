{
 "cells": [
  {
   "cell_type": "code",
   "execution_count": 2,
   "metadata": {
    "collapsed": true
   },
   "outputs": [],
   "source": [
    "import numpy as np\n",
    "from matplotlib import pyplot as pp\n",
    "from sklearn import svm, datasets"
   ]
  },
  {
   "cell_type": "code",
   "execution_count": 3,
   "metadata": {},
   "outputs": [
    {
     "data": {
      "text/plain": [
       "{'DESCR': 'Linnerrud dataset\\n=================\\n\\nNotes\\n-----\\nData Set Characteristics:\\n    :Number of Instances: 20\\n    :Number of Attributes: 3\\n    :Missing Attribute Values: None\\n\\nThe Linnerud dataset constains two small dataset:\\n\\n- *exercise*: A list containing the following components: exercise data with\\n  20 observations on 3 exercise variables: Weight, Waist and Pulse.\\n\\n- *physiological*: Data frame with 20 observations on 3 physiological variables:\\n   Chins, Situps and Jumps.\\n\\nReferences\\n----------\\n  * Tenenhaus, M. (1998). La regression PLS: theorie et pratique. Paris: Editions Technic.\\n',\n",
       " 'data': array([[   5.,  162.,   60.],\n",
       "        [   2.,  110.,   60.],\n",
       "        [  12.,  101.,  101.],\n",
       "        [  12.,  105.,   37.],\n",
       "        [  13.,  155.,   58.],\n",
       "        [   4.,  101.,   42.],\n",
       "        [   8.,  101.,   38.],\n",
       "        [   6.,  125.,   40.],\n",
       "        [  15.,  200.,   40.],\n",
       "        [  17.,  251.,  250.],\n",
       "        [  17.,  120.,   38.],\n",
       "        [  13.,  210.,  115.],\n",
       "        [  14.,  215.,  105.],\n",
       "        [   1.,   50.,   50.],\n",
       "        [   6.,   70.,   31.],\n",
       "        [  12.,  210.,  120.],\n",
       "        [   4.,   60.,   25.],\n",
       "        [  11.,  230.,   80.],\n",
       "        [  15.,  225.,   73.],\n",
       "        [   2.,  110.,   43.]]),\n",
       " 'feature_names': ['Chins', 'Situps', 'Jumps'],\n",
       " 'target': array([[ 191.,   36.,   50.],\n",
       "        [ 189.,   37.,   52.],\n",
       "        [ 193.,   38.,   58.],\n",
       "        [ 162.,   35.,   62.],\n",
       "        [ 189.,   35.,   46.],\n",
       "        [ 182.,   36.,   56.],\n",
       "        [ 211.,   38.,   56.],\n",
       "        [ 167.,   34.,   60.],\n",
       "        [ 176.,   31.,   74.],\n",
       "        [ 154.,   33.,   56.],\n",
       "        [ 169.,   34.,   50.],\n",
       "        [ 166.,   33.,   52.],\n",
       "        [ 154.,   34.,   64.],\n",
       "        [ 247.,   46.,   50.],\n",
       "        [ 193.,   36.,   46.],\n",
       "        [ 202.,   37.,   62.],\n",
       "        [ 176.,   37.,   54.],\n",
       "        [ 157.,   32.,   52.],\n",
       "        [ 156.,   33.,   54.],\n",
       "        [ 138.,   33.,   68.]]),\n",
       " 'target_names': ['Weight', 'Waist', 'Pulse']}"
      ]
     },
     "execution_count": 3,
     "metadata": {},
     "output_type": "execute_result"
    }
   ],
   "source": [
    "lin=datasets.load_linnerud()\n",
    "lin"
   ]
  },
  {
   "cell_type": "code",
   "execution_count": 4,
   "metadata": {},
   "outputs": [
    {
     "name": "stdout",
     "output_type": "stream",
     "text": [
      "[[   5.  162.]\n",
      " [   2.  110.]\n",
      " [  12.  101.]\n",
      " [  12.  105.]\n",
      " [  13.  155.]\n",
      " [   4.  101.]\n",
      " [   8.  101.]\n",
      " [   6.  125.]\n",
      " [  15.  200.]\n",
      " [  17.  251.]\n",
      " [  17.  120.]\n",
      " [  13.  210.]\n",
      " [  14.  215.]\n",
      " [   1.   50.]\n",
      " [   6.   70.]\n",
      " [  12.  210.]\n",
      " [   4.   60.]\n",
      " [  11.  230.]\n",
      " [  15.  225.]\n",
      " [   2.  110.]]\n",
      "[ 191.  189.  193.  162.  189.  182.  211.  167.  176.  154.  169.  166.\n",
      "  154.  247.  193.  202.  176.  157.  156.  138.]\n"
     ]
    }
   ],
   "source": [
    "x = lin.data[:, :2]  \n",
    "y = lin.target[:, :1].ravel()\n",
    "print(x)\n",
    "print(y)"
   ]
  },
  {
   "cell_type": "code",
   "execution_count": 5,
   "metadata": {
    "collapsed": true
   },
   "outputs": [],
   "source": [
    "def fun(x, y):  #kernel\n",
    "    M = np.array([[2, 0], [0, 1.0]])\n",
    "    return np.dot(np.dot(x, M), y.T)"
   ]
  },
  {
   "cell_type": "code",
   "execution_count": 6,
   "metadata": {
    "collapsed": true
   },
   "outputs": [],
   "source": [
    "h=0.5"
   ]
  },
  {
   "cell_type": "code",
   "execution_count": 10,
   "metadata": {},
   "outputs": [
    {
     "data": {
      "text/plain": [
       "SVC(C=1.0, cache_size=200, class_weight=None, coef0=0.0,\n",
       "  decision_function_shape=None, degree=3, gamma='auto',\n",
       "  kernel=<function fun at 0x000001774BC3AD90>, max_iter=-1,\n",
       "  probability=False, random_state=None, shrinking=True, tol=0.001,\n",
       "  verbose=False)"
      ]
     },
     "execution_count": 10,
     "metadata": {},
     "output_type": "execute_result"
    }
   ],
   "source": [
    "clf = svm.SVC(kernel=fun)\n",
    "clf.fit(x,y)"
   ]
  },
  {
   "cell_type": "code",
   "execution_count": 11,
   "metadata": {},
   "outputs": [
    {
     "name": "stdout",
     "output_type": "stream",
     "text": [
      "xmin=  0.0 \txmax=  18.0\n",
      "ymin=  49.0 \tymax=  252.0\n",
      "xx=  [[  0.    0.5   1.  ...,  16.5  17.   17.5]\n",
      " [  0.    0.5   1.  ...,  16.5  17.   17.5]\n",
      " [  0.    0.5   1.  ...,  16.5  17.   17.5]\n",
      " ..., \n",
      " [  0.    0.5   1.  ...,  16.5  17.   17.5]\n",
      " [  0.    0.5   1.  ...,  16.5  17.   17.5]\n",
      " [  0.    0.5   1.  ...,  16.5  17.   17.5]] \n",
      "yy=  [[  49.    49.    49.  ...,   49.    49.    49. ]\n",
      " [  49.5   49.5   49.5 ...,   49.5   49.5   49.5]\n",
      " [  50.    50.    50.  ...,   50.    50.    50. ]\n",
      " ..., \n",
      " [ 250.5  250.5  250.5 ...,  250.5  250.5  250.5]\n",
      " [ 251.   251.   251.  ...,  251.   251.   251. ]\n",
      " [ 251.5  251.5  251.5 ...,  251.5  251.5  251.5]]\n",
      "z=  [ 247.  247.  247. ...,  154.  154.  154.]\n"
     ]
    }
   ],
   "source": [
    "x_min, x_max = x[:, 0].min() - 1, x[:, 0].max() + 1\n",
    "y_min, y_max = x[:, 1].min() - 1, x[:, 1].max() + 1\n",
    "xx, yy = np.meshgrid(np.arange(x_min, x_max, h), np.arange(y_min, y_max, h))\n",
    "z = clf.predict(np.c_[xx.ravel(), yy.ravel()])\n",
    "print(\"xmin= \",x_min,\"\\txmax= \",x_max)\n",
    "print(\"ymin= \",y_min,\"\\tymax= \",y_max)\n",
    "print(\"xx= \",xx,\"\\nyy= \",yy)\n",
    "print(\"z= \",z)"
   ]
  },
  {
   "cell_type": "code",
   "execution_count": 12,
   "metadata": {},
   "outputs": [
    {
     "name": "stdout",
     "output_type": "stream",
     "text": [
      "[[ 247.  247.  247. ...,  193.  193.  193.]\n",
      " [ 247.  247.  247. ...,  193.  193.  193.]\n",
      " [ 247.  247.  247. ...,  193.  193.  193.]\n",
      " ..., \n",
      " [ 157.  157.  157. ...,  154.  154.  154.]\n",
      " [ 157.  157.  157. ...,  154.  154.  154.]\n",
      " [ 157.  157.  157. ...,  154.  154.  154.]]\n"
     ]
    },
    {
     "data": {
      "text/plain": [
       "<matplotlib.collections.QuadMesh at 0x1774c093ba8>"
      ]
     },
     "execution_count": 12,
     "metadata": {},
     "output_type": "execute_result"
    }
   ],
   "source": [
    "z = z.reshape(xx.shape)\n",
    "print(z)\n",
    "pp.pcolormesh(xx, yy, z, cmap=pp.cm.Paired)"
   ]
  },
  {
   "cell_type": "code",
   "execution_count": 13,
   "metadata": {},
   "outputs": [
    {
     "data": {
      "image/png": "[encoded data removed]",
      "text/plain": [
       "<matplotlib.figure.Figure at 0x1774bca4f60>"
      ]
     },
     "metadata": {},
     "output_type": "display_data"
    }
   ],
   "source": [
    "pp.scatter(x[:, 0], x[:, 1], c=y, cmap=pp.cm.Paired, edgecolors='k')\n",
    "pp.title('3-Class classification using Support Vector Machine with custom'\n",
    "          ' kernel')\n",
    "pp.axis('tight')\n",
    "pp.show()"
   ]
  },
  {
   "cell_type": "code",
   "execution_count": null,
   "metadata": {
    "collapsed": true
   },
   "outputs": [],
   "source": []
  }
 ],
 "metadata": {
  "kernelspec": {
   "display_name": "Python 3",
   "language": "python",
   "name": "python3"
  },
  "language_info": {
   "codemirror_mode": {
    "name": "ipython",
    "version": 3
   },
   "file_extension": ".py",
   "mimetype": "text/x-python",
   "name": "python",
   "nbconvert_exporter": "python",
   "pygments_lexer": "ipython3",
   "version": "3.6.1"
  }
 },
 "nbformat": 4,
 "nbformat_minor": 2
}
